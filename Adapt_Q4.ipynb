{
 "cells": [
  {
   "cell_type": "code",
   "execution_count": 1,
   "id": "96e29b30",
   "metadata": {},
   "outputs": [
    {
     "name": "stdout",
     "output_type": "stream",
     "text": [
      "Data successfully written to servlet_data.csv\n"
     ]
    }
   ],
   "source": [
    "import json\n",
    "import csv\n",
    "# Specify the full path to the JSON file\n",
    "json_file_path =r'C:\\Users\\dhany\\Downloads\\sample_json.json'\n",
    "\n",
    "# Read JSON file\n",
    "with open(json_file_path, 'r') as json_file:\n",
    "    data = json.load(json_file)\n",
    "\n",
    "# Extract \"servlet-name\" and \"servlet-class\" from each entry\n",
    "servlet_data = []\n",
    "for servlet in data['web-app']['servlet']:\n",
    "    servlet_name = servlet['servlet-name']\n",
    "    servlet_class = servlet['servlet-class']\n",
    "    servlet_data.append({'servlet-name': servlet_name, 'servlet-class': servlet_class})\n",
    "\n",
    "# Write to CSV file\n",
    "csv_filename = 'servlet_data.csv'\n",
    "with open(csv_filename, 'w', newline='') as csv_file:\n",
    "    writer = csv.DictWriter(csv_file, fieldnames=['servlet-name', 'servlet-class'])\n",
    "    writer.writeheader()\n",
    "    writer.writerows(servlet_data)\n",
    "\n",
    "print(f\"Data successfully written to {csv_filename}\")"
   ]
  },
  {
   "cell_type": "code",
   "execution_count": 2,
   "id": "eb632a62",
   "metadata": {},
   "outputs": [
    {
     "data": {
      "text/plain": [
       "[{'servlet-name': 'cofaxCDS', 'servlet-class': 'org.cofax.cds.CDSServlet'},\n",
       " {'servlet-name': 'cofaxEmail', 'servlet-class': 'org.cofax.cds.EmailServlet'},\n",
       " {'servlet-name': 'cofaxAdmin', 'servlet-class': 'org.cofax.cds.AdminServlet'},\n",
       " {'servlet-name': 'fileServlet', 'servlet-class': 'org.cofax.cds.FileServlet'},\n",
       " {'servlet-name': 'cofaxTools',\n",
       "  'servlet-class': 'org.cofax.cms.CofaxToolsServlet'}]"
      ]
     },
     "execution_count": 2,
     "metadata": {},
     "output_type": "execute_result"
    }
   ],
   "source": [
    "servlet_data"
   ]
  },
  {
   "cell_type": "code",
   "execution_count": null,
   "id": "eeb8b678",
   "metadata": {},
   "outputs": [],
   "source": []
  }
 ],
 "metadata": {
  "kernelspec": {
   "display_name": "Python 3 (ipykernel)",
   "language": "python",
   "name": "python3"
  },
  "language_info": {
   "codemirror_mode": {
    "name": "ipython",
    "version": 3
   },
   "file_extension": ".py",
   "mimetype": "text/x-python",
   "name": "python",
   "nbconvert_exporter": "python",
   "pygments_lexer": "ipython3",
   "version": "3.9.13"
  }
 },
 "nbformat": 4,
 "nbformat_minor": 5
}
