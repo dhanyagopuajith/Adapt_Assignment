{
  "nbformat": 4,
  "nbformat_minor": 0,
  "metadata": {
    "colab": {
      "provenance": []
    },
    "kernelspec": {
      "name": "python3",
      "display_name": "Python 3"
    },
    "language_info": {
      "name": "python"
    }
  },
  "cells": [
    {
      "cell_type": "code",
      "execution_count": 1,
      "metadata": {
        "colab": {
          "base_uri": "https://localhost:8080/"
        },
        "id": "QhR0bZwjDGWD",
        "outputId": "f39a406f-fe7d-4748-bde5-637e490380a9"
      },
      "outputs": [
        {
          "output_type": "stream",
          "name": "stdout",
          "text": [
            "3\n"
          ]
        }
      ],
      "source": [
        "def findLengthOfLCIS(nums):\n",
        "    if not nums:\n",
        "        return 0\n",
        "\n",
        "    max_length = 1\n",
        "    curr_length = 1\n",
        "\n",
        "    for i in range(1, len(nums)):\n",
        "        if nums[i] > nums[i - 1]:\n",
        "            curr_length += 1\n",
        "            max_length = max(max_length, curr_length)\n",
        "        else:\n",
        "            curr_length = 1\n",
        "\n",
        "    return max_length\n",
        "\n",
        "# Example usage:\n",
        "nums = [1, 3, 5, 4, 7]\n",
        "print(findLengthOfLCIS(nums))  # Output: 3\n"
      ]
    }
  ]
}