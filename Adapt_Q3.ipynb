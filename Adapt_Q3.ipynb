{
 "cells": [
  {
   "cell_type": "raw",
   "id": "c6a54622",
   "metadata": {},
   "source": [
    "3.Given a list of non negative integers, arrange them such that they form the largest number.\n",
    " \n",
    " Example 1:\n",
    " Input: [10,2]\n",
    " Output: \"210\"\n",
    " Example 2:\n",
    " \n",
    " Input: [3,30,34,5,9]\n",
    " Output: \"9534330\"\n"
   ]
  },
  {
   "cell_type": "code",
   "execution_count": 1,
   "id": "b9ed54da",
   "metadata": {},
   "outputs": [
    {
     "name": "stdout",
     "output_type": "stream",
     "text": [
      "Enter space-separated non-negative integers: 4 7 8 3 6 0 2\n",
      "Output: 8764320\n"
     ]
    }
   ],
   "source": [
    "# User input for list of non-negative integers\n",
    "nums = list(map(int, input(\"Enter space-separated non-negative integers: \").split()))\n",
    "\n",
    "# Sort the numbers based on custom comparator\n",
    "nums.sort(key=lambda x: (str(x), str(x)[-1]), reverse=True)\n",
    "\n",
    "# Join the sorted numbers to form the largest number\n",
    "largest_num = ''.join(map(str, nums))\n",
    "\n",
    "# Remove leading zeros if any\n",
    "largest_num = largest_num.lstrip('0')\n",
    "\n",
    "# If the number is empty after removing leading zeros, return '0'\n",
    "largest_num = largest_num if largest_num else '0'\n",
    "\n",
    "# Output the result\n",
    "print(\"Output:\", largest_num)\n"
   ]
  },
  {
   "cell_type": "code",
   "execution_count": null,
   "id": "da365ca1",
   "metadata": {},
   "outputs": [],
   "source": []
  }
 ],
 "metadata": {
  "kernelspec": {
   "display_name": "Python 3 (ipykernel)",
   "language": "python",
   "name": "python3"
  },
  "language_info": {
   "codemirror_mode": {
    "name": "ipython",
    "version": 3
   },
   "file_extension": ".py",
   "mimetype": "text/x-python",
   "name": "python",
   "nbconvert_exporter": "python",
   "pygments_lexer": "ipython3",
   "version": "3.9.13"
  }
 },
 "nbformat": 4,
 "nbformat_minor": 5
}
